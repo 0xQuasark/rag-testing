{
 "cells": [
  {
   "cell_type": "code",
   "execution_count": 2,
   "metadata": {},
   "outputs": [
    {
     "name": "stdout",
     "output_type": "stream",
     "text": [
      "zsh:1: no matches found: embedchain[dataloaders]\n"
     ]
    }
   ],
   "source": [
    "!pip install embedchain[dataloaders]"
   ]
  },
  {
   "cell_type": "code",
   "execution_count": 4,
   "metadata": {},
   "outputs": [
    {
     "ename": "ModuleNotFoundError",
     "evalue": "No module named 'embedchain'",
     "output_type": "error",
     "traceback": [
      "\u001b[0;31m---------------------------------------------------------------------------\u001b[0m",
      "\u001b[0;31mModuleNotFoundError\u001b[0m                       Traceback (most recent call last)",
      "\u001b[1;32m/Users/paulb/code/rag-testing/embedchain.ipynb Cell 2\u001b[0m line \u001b[0;36m1\n\u001b[0;32m----> <a href='vscode-notebook-cell:/Users/paulb/code/rag-testing/embedchain.ipynb#W4sZmlsZQ%3D%3D?line=0'>1</a>\u001b[0m \u001b[39mfrom\u001b[39;00m \u001b[39membedchain\u001b[39;00m \u001b[39mimport\u001b[39;00m Pipeline \u001b[39mas\u001b[39;00m App\n\u001b[1;32m      <a href='vscode-notebook-cell:/Users/paulb/code/rag-testing/embedchain.ipynb#W4sZmlsZQ%3D%3D?line=1'>2</a>\u001b[0m app \u001b[39m=\u001b[39m App()\n",
      "\u001b[0;31mModuleNotFoundError\u001b[0m: No module named 'embedchain'"
     ]
    }
   ],
   "source": [
    "from embedchain import Pipeline as App\n",
    "app = App()\n"
   ]
  },
  {
   "cell_type": "code",
   "execution_count": 3,
   "metadata": {},
   "outputs": [
    {
     "ename": "NameError",
     "evalue": "name 'app' is not defined",
     "output_type": "error",
     "traceback": [
      "\u001b[0;31m---------------------------------------------------------------------------\u001b[0m",
      "\u001b[0;31mNameError\u001b[0m                                 Traceback (most recent call last)",
      "\u001b[1;32m/Users/paulb/code/rag-testing/embedchain.ipynb Cell 3\u001b[0m line \u001b[0;36m1\n\u001b[0;32m----> <a href='vscode-notebook-cell:/Users/paulb/code/rag-testing/embedchain.ipynb#W2sZmlsZQ%3D%3D?line=0'>1</a>\u001b[0m app\u001b[39m.\u001b[39madd(\u001b[39m\"\u001b[39m\u001b[39mhttps://youtube.com/watch?v=DcWqzZ3I2cY\u001b[39m\u001b[39m\"\u001b[39m)\n",
      "\u001b[0;31mNameError\u001b[0m: name 'app' is not defined"
     ]
    }
   ],
   "source": [
    "app.add(\"https://youtube.com/watch?v=DcWqzZ3I2cY\")\n",
    "\n"
   ]
  }
 ],
 "metadata": {
  "kernelspec": {
   "display_name": "Python 3",
   "language": "python",
   "name": "python3"
  },
  "language_info": {
   "codemirror_mode": {
    "name": "ipython",
    "version": 3
   },
   "file_extension": ".py",
   "mimetype": "text/x-python",
   "name": "python",
   "nbconvert_exporter": "python",
   "pygments_lexer": "ipython3",
   "version": "3.11.5"
  }
 },
 "nbformat": 4,
 "nbformat_minor": 2
}
